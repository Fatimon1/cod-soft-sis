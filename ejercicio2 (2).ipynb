{
 "cells": [
  {
   "cell_type": "code",
   "execution_count": 18,
   "id": "a1665609-d0e9-4abb-815e-878b20ac4f2d",
   "metadata": {},
   "outputs": [
    {
     "ename": "TypeError",
     "evalue": "Motos() takes no arguments",
     "output_type": "error",
     "traceback": [
      "\u001b[1;31m---------------------------------------------------------------------------\u001b[0m",
      "\u001b[1;31mTypeError\u001b[0m                                 Traceback (most recent call last)",
      "Cell \u001b[1;32mIn[18], line 6\u001b[0m\n\u001b[0;32m      3\u001b[0m     \u001b[38;5;28;01mdef\u001b[39;00m \u001b[38;5;21mrodar\u001b[39m(\u001b[38;5;28mself\u001b[39m):\n\u001b[0;32m      4\u001b[0m         \u001b[38;5;28mprint\u001b[39m(\u001b[38;5;124m\"\u001b[39m\u001b[38;5;124mesa moto esta rodando\u001b[39m\u001b[38;5;124m\"\u001b[39m)\n\u001b[1;32m----> 6\u001b[0m \u001b[38;5;28;01mclass\u001b[39;00m \u001b[38;5;21;01mMotoneta\u001b[39;00m(motos):\n\u001b[0;32m      7\u001b[0m     __marca\u001b[38;5;241m=\u001b[39m\u001b[38;5;124m\"\u001b[39m\u001b[38;5;124mhonda\u001b[39m\u001b[38;5;124m\"\u001b[39m\n\u001b[0;32m      8\u001b[0m     \u001b[38;5;28;01mdef\u001b[39;00m \u001b[38;5;21mrodar\u001b[39m(\u001b[38;5;28mself\u001b[39m):\n",
      "\u001b[1;31mTypeError\u001b[0m: Motos() takes no arguments"
     ]
    }
   ],
   "source": [
    "class Motos:\n",
    "    __marca=\"italica\"\n",
    "    def rodar(self):\n",
    "        print(\"esa moto esta rodando\")\n",
    "\n",
    "class Motoneta(motos):\n",
    "    __marca=\"honda\"\n",
    "    def rodar(self):\n",
    "        print(\"esa motoneta esta rodando\")\n",
    "\n",
    "class Bicimoto(Motos):\n",
    "    __marca=\"apache\"\n",
    "    def rodar(self):\n",
    "        print(\"esa bicimoto esta rodando\")\n",
    "\n",
    "motos=Motos()\n",
    "motos.rodar()\n",
    "motoneta=Motoneta()\n",
    "motoneta.rodar()\n",
    "bicimoto=Bicimoto()\n",
    "\n",
    "\n",
    "    "
   ]
  },
  {
   "cell_type": "code",
   "execution_count": null,
   "id": "ba6afabc-0367-4dbd-b1d5-0685f9729a03",
   "metadata": {},
   "outputs": [],
   "source": []
  }
 ],
 "metadata": {
  "kernelspec": {
   "display_name": "Python [conda env:base] *",
   "language": "python",
   "name": "conda-base-py"
  },
  "language_info": {
   "codemirror_mode": {
    "name": "ipython",
    "version": 3
   },
   "file_extension": ".py",
   "mimetype": "text/x-python",
   "name": "python",
   "nbconvert_exporter": "python",
   "pygments_lexer": "ipython3",
   "version": "3.12.7"
  }
 },
 "nbformat": 4,
 "nbformat_minor": 5
}
