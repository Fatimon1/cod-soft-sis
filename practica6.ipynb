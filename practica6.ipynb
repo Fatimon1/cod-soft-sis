{
 "cells": [
  {
   "cell_type": "code",
   "execution_count": 7,
   "id": "ab968d1d-88f5-4472-acc9-4b261dcd97e3",
   "metadata": {},
   "outputs": [
    {
     "name": "stdout",
     "output_type": "stream",
     "text": [
      "(1, 2, 3, 4, 5)\n"
     ]
    }
   ],
   "source": [
    "tupla_1 = (1,2,3,4,5)\n",
    "print(tupla_1)\n",
    "\n"
   ]
  },
  {
   "cell_type": "code",
   "execution_count": 9,
   "id": "8c09aea1-9933-40f7-ab33-eb4b4d38f841",
   "metadata": {},
   "outputs": [
    {
     "name": "stdout",
     "output_type": "stream",
     "text": [
      "8\n"
     ]
    }
   ],
   "source": [
    "\n",
    "tupla_2 = (6,7,8,9,10)\n",
    "print(tupla_2[2])\n",
    "\n"
   ]
  },
  {
   "cell_type": "code",
   "execution_count": 11,
   "id": "0e5895df-b4bd-4850-b9a3-ea359b8302ed",
   "metadata": {},
   "outputs": [
    {
     "name": "stdout",
     "output_type": "stream",
     "text": [
      "(1, 2, 3, 4, 5, 6, 7, 8, 9, 10)\n"
     ]
    }
   ],
   "source": [
    "tupla_1 = (1,2,3,4,5)\n",
    "tupla_2 = (6,7,8,9,10)\n",
    "tupla_nueva= tupla_1 + tupla_2\n",
    "print(tupla_nueva)\n",
    "\n"
   ]
  },
  {
   "cell_type": "code",
   "execution_count": 13,
   "id": "e4c72a7b-b8a9-40d3-a8db-9481007c1741",
   "metadata": {},
   "outputs": [
    {
     "name": "stdout",
     "output_type": "stream",
     "text": [
      "a b c\n"
     ]
    }
   ],
   "source": [
    "tupla = ('a','b','c')\n",
    "print(tupla[0],tupla[1],tupla[2])\n",
    "\n"
   ]
  },
  {
   "cell_type": "code",
   "execution_count": 15,
   "id": "c202078d-4e9f-4f1b-8b60-a98d443872a5",
   "metadata": {},
   "outputs": [
    {
     "name": "stdout",
     "output_type": "stream",
     "text": [
      "True\n"
     ]
    }
   ],
   "source": [
    "tupla = (1,2,3,4,5)\n",
    "print(2 in tupla)"
   ]
  },
  {
   "cell_type": "code",
   "execution_count": 17,
   "id": "715e26a0-602c-498d-b104-76188ed5b500",
   "metadata": {},
   "outputs": [
    {
     "name": "stdout",
     "output_type": "stream",
     "text": [
      "(2, 3)\n"
     ]
    }
   ],
   "source": [
    "tupla = (0,1,2,3,4,5)\n",
    "print(tupla[2:4])"
   ]
  },
  {
   "cell_type": "code",
   "execution_count": 19,
   "id": "bed0bab9-2571-4956-8a90-60f814391896",
   "metadata": {},
   "outputs": [
    {
     "name": "stdout",
     "output_type": "stream",
     "text": [
      "5\n"
     ]
    }
   ],
   "source": [
    "tupla =  (10,20,30,40,50)\n",
    "print(len(tupla))"
   ]
  },
  {
   "cell_type": "code",
   "execution_count": 21,
   "id": "d8e175ee-fe05-4ebf-8736-091bd0a37f5e",
   "metadata": {},
   "outputs": [
    {
     "name": "stdout",
     "output_type": "stream",
     "text": [
      "(1, 2, 3, 4, 5, 1, 2, 3, 4, 5, 1, 2, 3, 4, 5)\n"
     ]
    }
   ],
   "source": [
    "\n",
    "tupla = (1,2,3,4,5)\n",
    "tupla_repetida=tupla*3\n",
    "print(tupla_repetida)\n"
   ]
  },
  {
   "cell_type": "code",
   "execution_count": 23,
   "id": "15277844-0773-45e8-8bf0-ada79d01070b",
   "metadata": {},
   "outputs": [
    {
     "name": "stdout",
     "output_type": "stream",
     "text": [
      "(1, 2, 3)\n"
     ]
    }
   ],
   "source": [
    "lista = [1,2,3,]\n",
    "tupla =tuple(lista)\n",
    "print(tupla)\n"
   ]
  },
  {
   "cell_type": "code",
   "execution_count": null,
   "id": "cf41e1da-4c41-4d88-b965-5c8247432031",
   "metadata": {},
   "outputs": [],
   "source": [
    "tupla = (5,12,3,8,15)\n",
    "print(min(tupla))\n",
    "print(max(tupla))\n"
   ]
  }
 ],
 "metadata": {
  "kernelspec": {
   "display_name": "Python [conda env:base] *",
   "language": "python",
   "name": "conda-base-py"
  },
  "language_info": {
   "codemirror_mode": {
    "name": "ipython",
    "version": 3
   },
   "file_extension": ".py",
   "mimetype": "text/x-python",
   "name": "python",
   "nbconvert_exporter": "python",
   "pygments_lexer": "ipython3",
   "version": "3.12.7"
  }
 },
 "nbformat": 4,
 "nbformat_minor": 5
}
