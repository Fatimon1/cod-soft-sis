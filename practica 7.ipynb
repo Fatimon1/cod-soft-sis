{
 "cells": [
  {
   "cell_type": "code",
   "execution_count": 1,
   "id": "2018bb6e-c7e4-4fef-9a78-d3075a82c3cb",
   "metadata": {},
   "outputs": [
    {
     "name": "stdin",
     "output_type": "stream",
     "text": [
      "Introduce el porcentaje del alumno:  80\n"
     ]
    },
    {
     "name": "stdout",
     "output_type": "stream",
     "text": [
      "El grado del alumno es: C\n"
     ]
    }
   ],
   "source": [
    "\n",
    "porcentaje = float(input(\"Introduce el porcentaje del alumno: \"))\n",
    "if porcentaje > 90:\n",
    "    grado = 'A'\n",
    "    print(f\"El grado del alumno es: {grado}\")\n",
    "elif porcentaje > 80 and porcentaje <= 90:\n",
    "    grado = 'B'\n",
    "    print(f\"El grado del alumno es: {grado}\")\n",
    "elif porcentaje >= 60 and porcentaje <= 80:\n",
    "    grado = 'C'\n",
    "    print(f\"El grado del alumno es: {grado}\")\n",
    "else:\n",
    "    grado = 'D'\n",
    "    print(f\"El grado del alumno es: {grado}\")"
   ]
  },
  {
   "cell_type": "code",
   "execution_count": null,
   "id": "2d7dfae5-a1fc-41cc-8d36-bd29d136fa2f",
   "metadata": {},
   "outputs": [],
   "source": []
  }
 ],
 "metadata": {
  "kernelspec": {
   "display_name": "Python [conda env:base] *",
   "language": "python",
   "name": "conda-base-py"
  },
  "language_info": {
   "codemirror_mode": {
    "name": "ipython",
    "version": 3
   },
   "file_extension": ".py",
   "mimetype": "text/x-python",
   "name": "python",
   "nbconvert_exporter": "python",
   "pygments_lexer": "ipython3",
   "version": "3.12.7"
  }
 },
 "nbformat": 4,
 "nbformat_minor": 5
}
