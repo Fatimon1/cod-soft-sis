{
 "cells": [
  {
   "cell_type": "code",
   "execution_count": 13,
   "id": "615c8b9a-2f3a-4e6a-b432-22ae8ecb4460",
   "metadata": {},
   "outputs": [
    {
     "name": "stdin",
     "output_type": "stream",
     "text": [
      "Ingresa el nonumento de la ciudad Nueva york\n"
     ]
    },
    {
     "name": "stdout",
     "output_type": "stream",
     "text": [
      "El monumento es  Estatua de la libertad\n"
     ]
    }
   ],
   "source": [
    "monumentos={\n",
    "    \"Delhi\":\"Red fort\",\n",
    "    \"Paris\":\"Torre Eifel\",\n",
    "    \"Nueva york\":\"Estatua de la libertad\",\n",
    "    \"Rio de jainero\":\"Cristo derentor\"\n",
    "}\n",
    "ciudad=input(\"Ingresa el nonumento de la ciudad\")\n",
    "print(\"El monumento es \", monumentos[ciudad])"
   ]
  },
  {
   "cell_type": "code",
   "execution_count": 15,
   "id": "4b35bff9-c7db-4f4f-9f20-fec178d1a75b",
   "metadata": {},
   "outputs": [
    {
     "name": "stdin",
     "output_type": "stream",
     "text": [
      "Ingresa la edad que deseas saber si es pósible votar 38\n"
     ]
    },
    {
     "name": "stdout",
     "output_type": "stream",
     "text": [
      "es posible votar\n"
     ]
    }
   ],
   "source": [
    "edad = float(input(\"Ingresa la edad que deseas saber si es pósible votar\"))\n",
    "if edad >= 18:\n",
    "    print(\"es posible votar\")\n",
    "else:\n",
    "    print(\"Eres menor de edad, no puedes votar\")\n",
    "    "
   ]
  },
  {
   "cell_type": "code",
   "execution_count": 17,
   "id": "f31c8bb8-6238-420b-9f95-9d03b1d83f60",
   "metadata": {},
   "outputs": [
    {
     "name": "stdin",
     "output_type": "stream",
     "text": [
      "Ingresa el primer numero 840\n",
      "Ingresa el segundo numero 48\n"
     ]
    },
    {
     "name": "stdout",
     "output_type": "stream",
     "text": [
      "840  es mayor que  48\n"
     ]
    }
   ],
   "source": [
    "numero1=input(\"Ingresa el primer numero\")\n",
    "numero2=input(\"Ingresa el segundo numero\")\n",
    "if numero1>numero2:\n",
    "    print(numero1,\" es mayor que \",numero2)\n",
    "elif numero2>numero1:\n",
    "    print(numero2,\" es mayor que \",numero1)"
   ]
  },
  {
   "cell_type": "code",
   "execution_count": null,
   "id": "1936a592-b54c-4400-8e7c-3d1edb9b6af8",
   "metadata": {},
   "outputs": [],
   "source": []
  }
 ],
 "metadata": {
  "kernelspec": {
   "display_name": "Python [conda env:base] *",
   "language": "python",
   "name": "conda-base-py"
  },
  "language_info": {
   "codemirror_mode": {
    "name": "ipython",
    "version": 3
   },
   "file_extension": ".py",
   "mimetype": "text/x-python",
   "name": "python",
   "nbconvert_exporter": "python",
   "pygments_lexer": "ipython3",
   "version": "3.12.7"
  }
 },
 "nbformat": 4,
 "nbformat_minor": 5
}
