{
 "cells": [
  {
   "cell_type": "code",
   "execution_count": 28,
   "id": "f7bb78a7-b99c-43b2-be5b-d949ce7653f2",
   "metadata": {},
   "outputs": [],
   "source": [
    "class motos:\n",
    "    pass\n",
    "class motor(motos):\n",
    "    pass\n",
    "class llantas:\n",
    "    pass\n",
    "class rines(motor,llantas):\n",
    "    pass\n",
    "\n"
   ]
  }
 ],
 "metadata": {
  "kernelspec": {
   "display_name": "Python [conda env:base] *",
   "language": "python",
   "name": "conda-base-py"
  },
  "language_info": {
   "codemirror_mode": {
    "name": "ipython",
    "version": 3
   },
   "file_extension": ".py",
   "mimetype": "text/x-python",
   "name": "python",
   "nbconvert_exporter": "python",
   "pygments_lexer": "ipython3",
   "version": "3.12.7"
  }
 },
 "nbformat": 4,
 "nbformat_minor": 5
}
