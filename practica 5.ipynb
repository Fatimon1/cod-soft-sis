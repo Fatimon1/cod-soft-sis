{
 "cells": [
  {
   "cell_type": "code",
   "execution_count": 3,
   "id": "c8daa887-7d5e-4160-8605-7662f65354d9",
   "metadata": {},
   "outputs": [
    {
     "name": "stdin",
     "output_type": "stream",
     "text": [
      "Ingresa un número del 1 al 12:  3\n"
     ]
    },
    {
     "name": "stdout",
     "output_type": "stream",
     "text": [
      "Abril tiene 30 días\n"
     ]
    }
   ],
   "source": [
    "numero = int(input(\"Ingresa un número del 1 al 12: \"))\n",
    "meses = (\"Enero\", 31),(\"Febrero\", 28),(\"Marzo\", 31),(\"Abril\", 30),(\"Mayo\", 31),(\"Junio\", 30),(\"Julio\", 31),(\"Agosto\", 31),(\"Septiembre\", 30),(\"Octubre\", 31),(\"Noviembre\", 30),(\"Diciembre\", 31)\n",
    "if 1 <= numero <= 12:\n",
    "    mes, dias = meses[numero]\n",
    "    print(f\"{mes} tiene {dias} días\")\n",
    "else:\n",
    "    print(\"Número fuera de rango. Ingresa un número entre 1 y 12.\")\n"
   ]
  },
  {
   "cell_type": "code",
   "execution_count": 5,
   "id": "79c5e112-5fc7-467f-8409-ac6da61ca95f",
   "metadata": {},
   "outputs": [
    {
     "name": "stdin",
     "output_type": "stream",
     "text": [
      "¿Cuál es tu nombre?  fatima\n",
      "¿Cuántos años tienes?  15\n"
     ]
    },
    {
     "name": "stdout",
     "output_type": "stream",
     "text": [
      "fatima, tendrás 100 años en el año 2110.\n"
     ]
    }
   ],
   "source": [
    "nombre = input(\"¿Cuál es tu nombre? \")\n",
    "edad = int(input(\"¿Cuántos años tienes? \"))\n",
    "año_actual = 2025\n",
    "año_100 = año_actual - edad + 100\n",
    "print(f\"{nombre}, tendrás 100 años en el año {año_100}.\")\n"
   ]
  }
 ],
 "metadata": {
  "kernelspec": {
   "display_name": "Python [conda env:base] *",
   "language": "python",
   "name": "conda-base-py"
  },
  "language_info": {
   "codemirror_mode": {
    "name": "ipython",
    "version": 3
   },
   "file_extension": ".py",
   "mimetype": "text/x-python",
   "name": "python",
   "nbconvert_exporter": "python",
   "pygments_lexer": "ipython3",
   "version": "3.12.7"
  }
 },
 "nbformat": 4,
 "nbformat_minor": 5
}
