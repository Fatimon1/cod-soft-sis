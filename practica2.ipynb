{
 "cells": [
  {
   "cell_type": "code",
   "execution_count": null,
   "id": "4cee5224-1db2-43a2-9856-c7d8439a1dd3",
   "metadata": {},
   "outputs": [],
   "source": [
    "yuan = 2.81\n",
    "yen = 2.14\n",
    "dolar = 20.47\n",
    "euro = 21.96\n",
    "libra = 25.46\n",
    "\n",
    "pesos = imput(\"cuntos pesos deseas convertir\")\n",
    "pesos=int(pesos)\n",
    "print(pesos*yuan, \" yuanes\")\n",
    "print(pesos*yen, \" yenes\")\n",
    "print(pesos*dolar, \" dolares\")\n",
    "print(pesos*euro, \"euros\")\n",
    "print(pesos*lib)"
   ]
  }
 ],
 "metadata": {
  "kernelspec": {
   "display_name": "Python [conda env:base] *",
   "language": "python",
   "name": "conda-base-py"
  },
  "language_info": {
   "codemirror_mode": {
    "name": "ipython",
    "version": 3
   },
   "file_extension": ".py",
   "mimetype": "text/x-python",
   "name": "python",
   "nbconvert_exporter": "python",
   "pygments_lexer": "ipython3",
   "version": "3.12.7"
  }
 },
 "nbformat": 4,
 "nbformat_minor": 5
}
