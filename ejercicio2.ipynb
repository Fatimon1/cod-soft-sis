{
 "cells": [
  {
   "cell_type": "code",
   "execution_count": 7,
   "id": "a1665609-d0e9-4abb-815e-878b20ac4f2d",
   "metadata": {},
   "outputs": [
    {
     "name": "stdout",
     "output_type": "stream",
     "text": [
      "esa moto esta rodando\n",
      "None\n",
      "esa motoneta esta rodando\n",
      "None\n",
      "esa bicimoto esta rodando\n",
      "None\n"
     ]
    }
   ],
   "source": [
    "class Motos:\n",
    "    __marca=\"italica\"\n",
    "    def rodar(self):\n",
    "        print(\"esa moto esta rodando\")\n",
    "\n",
    "class Motoneta(motos):\n",
    "    __marca=\"honda\"\n",
    "    def rodar(self):\n",
    "        print(\"esa motoneta esta rodando\")\n",
    "\n",
    "class Bicimoto:\n",
    "    __marca=\"apache\"\n",
    "    def rodar(self):\n",
    "        print(\"esa bicimoto esta rodando\")\n",
    "\n",
    "motos=Motos()\n",
    "print(motos.rodar())\n",
    "motoneta=Motoneta()\n",
    "print(motoneta.rodar())\n",
    "bicimoto=Bicimoto()\n",
    "print(bicimoto.rodar())\n",
    "\n",
    "\n",
    "    "
   ]
  }
 ],
 "metadata": {
  "kernelspec": {
   "display_name": "Python [conda env:base] *",
   "language": "python",
   "name": "conda-base-py"
  },
  "language_info": {
   "codemirror_mode": {
    "name": "ipython",
    "version": 3
   },
   "file_extension": ".py",
   "mimetype": "text/x-python",
   "name": "python",
   "nbconvert_exporter": "python",
   "pygments_lexer": "ipython3",
   "version": "3.12.7"
  }
 },
 "nbformat": 4,
 "nbformat_minor": 5
}
